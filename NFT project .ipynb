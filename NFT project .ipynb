{
 "cells": [
  {
   "cell_type": "code",
   "execution_count": 2,
   "id": "1b225abe",
   "metadata": {},
   "outputs": [],
   "source": [
    "import pandas as pd\n",
    "import numpy as np \n",
    "import matplotlib.pyplot as plt\n"
   ]
  },
  {
   "cell_type": "code",
   "execution_count": 3,
   "id": "1b54f1d7",
   "metadata": {},
   "outputs": [],
   "source": [
    "NFT = pd.read_csv('/Users/jamallawal/Desktop/NFT Data Project/nft_sales.csv')"
   ]
  },
  {
   "cell_type": "code",
   "execution_count": 4,
   "id": "3ad3182c",
   "metadata": {},
   "outputs": [
    {
     "name": "stdout",
     "output_type": "stream",
     "text": [
      "             Collections           Sales     Buyers        Txns     Owners\n",
      "0          Axie Infinity  $3,328,148,500  1,079,811   9,755,511  2,656,431\n",
      "1            CryptoPunks  $1,664,246,968      4,723      18,961      3,289\n",
      "2             Art Blocks  $1,075,223,906     20,934     117,602     25,094\n",
      "3   Bored Ape Yacht Club    $783,882,186      8,284      22,584      5,862\n",
      "4           NBA Top Shot    $781,965,423    374,818  11,790,699    603,928\n",
      "5  Mutant Ape Yacht Club    $422,429,206     10,350      17,343     10,254\n",
      "6                   Loot    $264,652,035      3,571       9,997      2,555\n",
      "7                Meebits    $237,519,388      5,112      13,580      5,361\n",
      "8              Cool Cats    $186,937,798      7,960      23,007      5,029\n",
      "9              CrypToadz    $170,407,439      6,277      15,005      3,525\n"
     ]
    }
   ],
   "source": [
    "print(NFT.head(10))"
   ]
  },
  {
   "cell_type": "code",
   "execution_count": 10,
   "id": "8b954ab8",
   "metadata": {},
   "outputs": [],
   "source": [
    "\n",
    "NFT.Sales = NFT['Sales'].replace('[\\$,]', '', regex=True)\n",
    "NFT.Sales = pd.to_numeric(NFT.Sales) ###Here the Data has been cleaned for analysis /n\n",
    "#by removing the $ sign before the Sales values\n",
    "    "
   ]
  },
  {
   "cell_type": "code",
   "execution_count": 11,
   "id": "1000f118",
   "metadata": {
    "scrolled": true
   },
   "outputs": [
    {
     "name": "stdout",
     "output_type": "stream",
     "text": [
      "             Collections       Sales     Buyers        Txns     Owners\n",
      "0          Axie Infinity  3328148500  1,079,811   9,755,511  2,656,431\n",
      "1            CryptoPunks  1664246968      4,723      18,961      3,289\n",
      "2             Art Blocks  1075223906     20,934     117,602     25,094\n",
      "3   Bored Ape Yacht Club   783882186      8,284      22,584      5,862\n",
      "4           NBA Top Shot   781965423    374,818  11,790,699    603,928\n",
      "5  Mutant Ape Yacht Club   422429206     10,350      17,343     10,254\n",
      "6                   Loot   264652035      3,571       9,997      2,555\n",
      "7                Meebits   237519388      5,112      13,580      5,361\n",
      "8              Cool Cats   186937798      7,960      23,007      5,029\n",
      "9              CrypToadz   170407439      6,277      15,005      3,525\n"
     ]
    }
   ],
   "source": [
    "print(NFT.head(10)) #we now have a cleaned data set of NFT"
   ]
  },
  {
   "cell_type": "code",
   "execution_count": 16,
   "id": "9f547234",
   "metadata": {},
   "outputs": [
    {
     "data": {
      "text/plain": [
       "Collections    object\n",
       "Sales           int64\n",
       "Buyers         object\n",
       "Txns           object\n",
       "Owners         object\n",
       "dtype: object"
      ]
     },
     "execution_count": 16,
     "metadata": {},
     "output_type": "execute_result"
    }
   ],
   "source": [
    "NFT.dtypes"
   ]
  },
  {
   "cell_type": "code",
   "execution_count": 28,
   "id": "ca90d65c",
   "metadata": {},
   "outputs": [],
   "source": [
    "NFTCB = NFT[['Collections', 'Buyers']]"
   ]
  },
  {
   "cell_type": "code",
   "execution_count": 56,
   "id": "f5cda1a8",
   "metadata": {},
   "outputs": [
    {
     "name": "stdout",
     "output_type": "stream",
     "text": [
      "                  Collections      Sales Buyers    Txns Owners\n",
      "3        Bored Ape Yacht Club  783882186  8,284  22,584  5,862\n",
      "21      Bored Ape Kennel Club  108210267  5,622  13,715  5,013\n",
      "31   Bored Ape Chemistry Club   79456705  1,454   2,508      1\n",
      "126     Bored Mummy Waking Up   11292073  6,030  14,816  3,682\n",
      "The total number of Sales for the Bored Collection was $ 982841231\n"
     ]
    },
    {
     "data": {
      "image/png": "[encoded data removed]",
      "text/plain": [
       "<Figure size 864x360 with 1 Axes>"
      ]
     },
     "metadata": {},
     "output_type": "display_data"
    }
   ],
   "source": [
    "bored_collection = NFT[NFT['Collections'].str.contains(\"Bored\")]\n",
    "print(bored_collection)\n",
    "\n",
    "total_num_sales = bored_collection['Sales'].sum()\n",
    "\n",
    "print('The total number of Sales for the Bored Collection was $',total_num_sales,)\n",
    "\n",
    "collection = bored_collection['Collections']\n",
    "sales = bored_collection['Sales']\n",
    "plt.figure(figsize=(12,5))\n",
    "plt.bar(collection,sales)\n",
    "plt.title('Sales of Bored Ape Collection')\n",
    "plt.xlabel('Collections')\n",
    "plt.ylabel('Sales in dollars per billion')\n",
    "plt.show() \n",
    "\n",
    "#Here we have created a figure which shows the total Sales in dollars(B) for each Bored Ape Collection."
   ]
  },
  {
   "cell_type": "code",
   "execution_count": null,
   "id": "ea45c2c9",
   "metadata": {},
   "outputs": [],
   "source": []
  }
 ],
 "metadata": {
  "kernelspec": {
   "display_name": "Python 3",
   "language": "python",
   "name": "python3"
  },
  "language_info": {
   "codemirror_mode": {
    "name": "ipython",
    "version": 3
   },
   "file_extension": ".py",
   "mimetype": "text/x-python",
   "name": "python",
   "nbconvert_exporter": "python",
   "pygments_lexer": "ipython3",
   "version": "3.8.8"
  }
 },
 "nbformat": 4,
 "nbformat_minor": 5
}
